{
 "cells": [
  {
   "cell_type": "markdown",
   "id": "214611b5-7ee9-4c84-a58d-f1b84a215490",
   "metadata": {},
   "source": [
    "<h1><center><strong>CX 4803<br><br>Homework 1</strong></center></h1>\n",
    "<h3><center><i>Dylan Both</i></center></h3>"
   ]
  },
  {
   "cell_type": "code",
   "execution_count": null,
   "id": "69df6170-9547-43d3-a263-8c7abc6610ec",
   "metadata": {},
   "outputs": [],
   "source": [
    "# !pip install -U notebook-as-pdf\n",
    "# !pyppeteer-install\n",
    "# !pip install pandoc\n",
    "!pip install nbconvert"
   ]
  },
  {
   "cell_type": "code",
   "execution_count": 19,
   "id": "20015f98-5ad1-48df-abc2-a61dcc206fb3",
   "metadata": {},
   "outputs": [],
   "source": [
    "# imports\n",
    "import csv\n",
    "import numpy as np\n",
    "import pandas as pd\n",
    "from scipy import linalg\n",
    "from scipy.stats import t\n",
    "import pandoc\n",
    "import nbconvert\n",
    "import matplotlib.pyplot as plt\n",
    "import random as rand\n",
    "import math"
   ]
  },
  {
   "cell_type": "markdown",
   "id": "18d2dbdc-a249-4ddd-b683-831a111d25a4",
   "metadata": {},
   "source": [
    "## Problem 1:"
   ]
  },
  {
   "cell_type": "code",
   "execution_count": 2,
   "id": "17d92c5a-023c-439a-9b92-efc3c9ce44bb",
   "metadata": {},
   "outputs": [],
   "source": [
    "# read in data\n",
    "x_d1, y_d1 = np.loadtxt('hw1_q1_d1.csv', delimiter=',', usecols=(0,1), unpack=True, dtype=float)\n",
    "x_d2, y_d2 = np.loadtxt('hw1_q1_d2.csv', delimiter=',', usecols=(0,1), unpack=True, dtype=float)\n",
    "x_d3, y_d3 = np.loadtxt('hw1_q1_d3.csv', delimiter=',', usecols=(0,1), unpack=True, dtype=float)\n",
    "x_d4, y_d4 = np.loadtxt('hw1_q1_d4.csv', delimiter=',', usecols=(0,1), unpack=True, dtype=float)"
   ]
  },
  {
   "cell_type": "markdown",
   "id": "f82003c8",
   "metadata": {},
   "source": [
    "### 1(a)\n",
    "For each dataset, we want to solve the equation\n",
    "\\begin{align}\n",
    "y&=X\\hat{w}\\\\\n",
    "\\begin{bmatrix}\n",
    "y_1\\\\\n",
    "y_2\\\\\n",
    "y_3\\\\\n",
    "y_4\\\\\n",
    "y_5\\\\\n",
    "y_6\\\\\n",
    "y_7\\\\\n",
    "y_8\\\\\n",
    "y_9\\\\\n",
    "y_{10}\\\\\n",
    "y_{11}\n",
    "\\end{bmatrix}\n",
    "&= \n",
    "\\begin{bmatrix}\n",
    "1&x_1\\\\\n",
    "1&x_2\\\\\n",
    "1&x_3\\\\\n",
    "1&x_4\\\\\n",
    "1&x_5\\\\\n",
    "1&x_6\\\\\n",
    "1&x_7\\\\\n",
    "1&x_8\\\\\n",
    "1&x_9\\\\\n",
    "1&x_{10}\\\\\n",
    "1&x_{11}\\\\\n",
    "\\end{bmatrix}\n",
    "\\cdot\n",
    "\\begin{bmatrix}\n",
    "w_0 \\\\w_1\n",
    "\\end{bmatrix}\n",
    "\\end{align}\n",
    "for $\\hat{w}$ to find the least squares solution.<br><br>\n",
    "\n",
    "We need to add $1$'s to our x-vectors before we solve so that the $w_0$ term is included in our regression."
   ]
  },
  {
   "cell_type": "code",
   "execution_count": 3,
   "id": "4fc24406",
   "metadata": {},
   "outputs": [],
   "source": [
    "# add column of 1's to include an intercept\n",
    "ones = np.ones(11)\n",
    "x_d1 = np.c_[ones, x_d1]\n",
    "x_d2 = np.c_[ones, x_d2]\n",
    "x_d3 = np.c_[ones, x_d3]\n",
    "x_d4 = np.c_[ones, x_d4]"
   ]
  },
  {
   "cell_type": "markdown",
   "id": "2ea795b6",
   "metadata": {},
   "source": [
    "Now we are ready to solve $y=wX$ for $w$ for each data set."
   ]
  },
  {
   "cell_type": "code",
   "execution_count": 4,
   "id": "cbce9f64",
   "metadata": {},
   "outputs": [],
   "source": [
    "# solve equations\n",
    "w_d1 = linalg.lstsq(x_d1, y_d1)[0]\n",
    "w_d2 = linalg.lstsq(x_d2, y_d2)[0]\n",
    "w_d3 = linalg.lstsq(x_d3, y_d3)[0]\n",
    "w_d4 = linalg.lstsq(x_d4, y_d4)[0]"
   ]
  },
  {
   "cell_type": "markdown",
   "id": "1fbf406e",
   "metadata": {},
   "source": [
    "The RSS is the squared 2-norm of the difference between $y$ and $\\hat{w}X$. That is, \n",
    "\\begin{align}\n",
    "RSS(\\hat{w})&=\\sum_{i=1}^{11}\\big(y-(w_0+w_1\\cdot x_i)\\big)^2\\\\\n",
    "&=\\sum_{i=1}^{11}\\big(y-\\hat{y}\\big)^2\\\\\n",
    "&=\\sum_{i=1}^{11}r_{i}^2\n",
    "\\end{align}"
   ]
  },
  {
   "cell_type": "code",
   "execution_count": 5,
   "id": "ab08e081",
   "metadata": {},
   "outputs": [],
   "source": [
    "# get the y-hats\n",
    "y_d1_hat = (w_d1.dot(x_d1.T))\n",
    "y_d2_hat = (w_d2.dot(x_d2.T))\n",
    "y_d3_hat = (w_d3.dot(x_d3.T))\n",
    "y_d4_hat = (w_d4.dot(x_d4.T))\n",
    "\n",
    "# get the residuals\n",
    "r_d1 = y_d1 - y_d1_hat\n",
    "r_d2 = y_d2 - y_d2_hat\n",
    "r_d3 = y_d3 - y_d3_hat\n",
    "r_d4 = y_d4 - y_d4_hat\n",
    "\n",
    "# get the RSS\n",
    "rss_d1 = np.sum(np.square(r_d1))\n",
    "rss_d2 = np.sum(np.square(r_d2))\n",
    "rss_d3 = np.sum(np.square(r_d3))\n",
    "rss_d4 = np.sum(np.square(r_d4))"
   ]
  },
  {
   "cell_type": "code",
   "execution_count": 6,
   "id": "7a3e2e8e",
   "metadata": {},
   "outputs": [],
   "source": [
    "# create summary table\n",
    "cols = ['sample', 'w_0', 'w_1', 'RSS']\n",
    "sum_table = pd.DataFrame(columns=cols)\n",
    "sum_table.loc[0] = np.array(['d1', round(w_d1[0], 4), round(w_d1[1], 4), round(rss_d1, 4)])\n",
    "sum_table.loc[1] = np.array(['d2', round(w_d2[0], 4), round(w_d2[1], 4), round(rss_d2, 4)])\n",
    "sum_table.loc[2] = np.array(['d3', round(w_d3[0], 4), round(w_d3[1], 4), round(rss_d3, 4)])\n",
    "sum_table.loc[3] = np.array(['d4', round(w_d4[0], 4), round(w_d4[1], 4), round(rss_d4, 4)])"
   ]
  },
  {
   "cell_type": "markdown",
   "id": "6b4a1ab5",
   "metadata": {},
   "source": [
    "### Solution to 1 (a):"
   ]
  },
  {
   "cell_type": "markdown",
   "id": "d6b1609c",
   "metadata": {},
   "source": [
    "\n",
    "|Sample|$\\hat{w_0}$|$\\hat{w_0}$|$RSS(\\hat{w})$|\n",
    "|------|------|------|-----|\n",
    "|d1|3.0001|0.5001|13.7627|\n",
    "|d1|3.0009|0.5|13.7763|\n",
    "|d1|3.0025|0.4997|13.7562|\n",
    "|d1|3.0017|0.4999|13.7425|"
   ]
  },
  {
   "cell_type": "markdown",
   "id": "46c1ab6f",
   "metadata": {},
   "source": [
    "### 1(b):\n",
    "We use the variance of the residuals as an estimate of the variance of the noise. This is <br><br>\n",
    "<center>$\\hat{\\sigma}^2=\\frac{1}{n-2}RSS(\\hat{w})$"
   ]
  },
  {
   "cell_type": "code",
   "execution_count": 7,
   "id": "823bfcbe",
   "metadata": {},
   "outputs": [],
   "source": [
    "# estimate sigma squared\n",
    "est_n_var_d1 = (1/9)*rss_d1\n",
    "est_n_var_d2 = (1/9)*rss_d2\n",
    "est_n_var_d3 = (1/9)*rss_d3\n",
    "est_n_var_d4 = (1/9)*rss_d4"
   ]
  },
  {
   "cell_type": "markdown",
   "id": "5e5bac4d",
   "metadata": {},
   "source": [
    "The estimated variance of the noise for each sample are:\n",
    "<ul>\n",
    "    <li>d1: $\\hat{\\sigma}^2=3.0567$</li>\n",
    "    <li>d2: $\\hat{\\sigma}^2=3.0556$</li>\n",
    "    <li>d3: $\\hat{\\sigma}^2=3.0522$</li>\n",
    "    <li>d4: $\\hat{\\sigma}^2=3.0544$</li>\n",
    "</ul>"
   ]
  },
  {
   "cell_type": "markdown",
   "id": "4b31550c",
   "metadata": {},
   "source": [
    "### 1(c):"
   ]
  },
  {
   "cell_type": "code",
   "execution_count": 8,
   "id": "76930333",
   "metadata": {},
   "outputs": [
    {
     "data": {
      "image/png": "[encoded data removed]",
      "text/plain": [
       "<Figure size 640x480 with 4 Axes>"
      ]
     },
     "metadata": {},
     "output_type": "display_data"
    }
   ],
   "source": [
    "# plot each fitted line with the actual data\n",
    "fig, ax = plt.subplots(nrows=2, ncols=2)\n",
    "\n",
    "ax[0, 0].scatter(x_d1[:, 1], y_d1, label='data')\n",
    "ax[0, 0].plot(x_d1[:, 1], y_d1_hat, 'r', label='Fitted line')\n",
    "ax[0, 0].set_title('d1')\n",
    "\n",
    "ax[1, 0].scatter(x_d2[:, 1], y_d2, label='data')\n",
    "ax[1, 0].plot(x_d2[:, 1], y_d2_hat, 'r', label='Fitted line')\n",
    "ax[1, 0].set_title('d2')\n",
    "\n",
    "ax[0, 1].scatter(x_d3[:, 1], y_d3, label='data')\n",
    "ax[0, 1].plot(x_d3[:, 1], y_d3_hat, 'r', label='Fitted line')\n",
    "ax[0, 1].set_title('d3')\n",
    "\n",
    "ax[1, 1].scatter(x_d4[:, 1], y_d4, label='data')\n",
    "ax[1, 1].plot(x_d4[:, 1], y_d4_hat, 'r', label='Fitted line')\n",
    "ax[1, 1].set_title('d4')\n",
    "\n",
    "plt.tight_layout()\n",
    "plt.show()\n"
   ]
  },
  {
   "cell_type": "markdown",
   "id": "8c0c03a2",
   "metadata": {},
   "source": [
    "### 1 (d):\n",
    "<ul>\n",
    "    <li>For the first data set, the best fit line captures the trends in the data fairly well since the actual data points are distributed fairly evenly above and below the best fit line.</li>\n",
    "    <li>The best fit line does an okay but not great job capturing the trends in the data in the second data set. Although the line lies very close to all but one data point, the slope of the line is too steep and consistanlty overpredicts because it is being affected by the outlier.</li>\n",
    "    <li> The best fit line does not do a good job capturing the trends in the data from the third data set because the actual relationship is quadratic rather than linear.</li>\n",
    "    <li>The best fit line does not capture the trends in the fourth data set because it does not account for the possibility of multiple y-values for the same x-value. Therefore, the best fit line only essentially says that the one outlier is just as important in the trend in the actual data.</li>\n",
    "</ul>"
   ]
  },
  {
   "cell_type": "markdown",
   "id": "e2c746c4",
   "metadata": {},
   "source": [
    "### 1(e):\n",
    "For a higher dimensional data set, I would use the mean squared error to check my regression model. Rather than visually inspecting if the regression captures the relationship between two variables, I would evaluate how far the predictions given by the model vary from the actual data on average. The mean squared error is the average of the terms in RSS; therefore, the mean squared error reveals if the model is typically predicting close to the true values while penalyzing the model for predictions that are far from the actual data. A high dimensional regression model that capture the trends in the actual data will have a relatively low MSE."
   ]
  },
  {
   "cell_type": "markdown",
   "id": "afbcf0ee",
   "metadata": {},
   "source": [
    "## Problem 2:"
   ]
  },
  {
   "cell_type": "code",
   "execution_count": 9,
   "id": "3480c31a-f8bf-4a8e-a54d-03d8654e46d1",
   "metadata": {},
   "outputs": [],
   "source": [
    "# read in the data\n",
    "x_1 = np.loadtxt('hw1_q2.csv', delimiter=',', usecols=(0), unpack=True, dtype=float)\n",
    "x_2 = np.loadtxt('hw1_q2.csv', delimiter=',', usecols=(1), unpack=True, dtype=float)\n",
    "x_3 = np.loadtxt('hw1_q2.csv', delimiter=',', usecols=(2), unpack=True, dtype=float)\n",
    "x_4 = np.loadtxt('hw1_q2.csv', delimiter=',', usecols=(3), unpack=True, dtype=float)\n",
    "x_5 = np.loadtxt('hw1_q2.csv', delimiter=',', usecols=(4), unpack=True, dtype=float)\n",
    "y = np.loadtxt('hw1_q2.csv', delimiter=',', usecols=(5), unpack=True, dtype=float)"
   ]
  },
  {
   "cell_type": "markdown",
   "id": "fb9d1ce2",
   "metadata": {},
   "source": [
    "### 2(a):"
   ]
  },
  {
   "cell_type": "markdown",
   "id": "d1d3ad03-eb8e-44b9-9fd9-26e5d2c3c79d",
   "metadata": {},
   "source": [
    "In the case of a multiple linear regression with p=5 features, we want to solve the equation\n",
    "\\begin{align}\n",
    "y=X\\hat{w}\n",
    "\\end{align}\n",
    "for $\\hat{w}$ where $y$ is the vector of all 32 observed y values and $X$ is the matrix:\n",
    "\\begin{align}\n",
    "\\begin{bmatrix}\n",
    "1&x_{1 ,1}&x_{1, 2}&x_{1, 3}&x_{1, 4}&x_{1, 5}\\\\\n",
    "1&x_{2, 1}&x_{2, 2}&x_{2, 3}&x_{2, 4}&x_{2. 5}\\\\\n",
    "...&...&...&...&...&...\\\\\n",
    "1&x_{32, 1}&x_{32, 2}&x_{32, 3}&x_{32, 4}&x_{32, 5}\\\\\n",
    "\\end{bmatrix}\n",
    "\\end{align}\n",
    "\n",
    "<i>note: the dots are inteded to be vertical to indicate that each of the 32 observations occupies a row of the matrix.</i>\n"
   ]
  },
  {
   "cell_type": "code",
   "execution_count": 10,
   "id": "e130cd3d-1075-4d46-80de-3998d7b33766",
   "metadata": {},
   "outputs": [],
   "source": [
    "# create the matrix X\n",
    "ones = np.ones(32)\n",
    "X = np.c_[ones, x_1, x_2, x_3, x_4, x_5]\n",
    "\n",
    "# solve the equation for w_hat\n",
    "w_hat = linalg.lstsq(X, y)[0]"
   ]
  },
  {
   "cell_type": "markdown",
   "id": "c41a0f06-6538-4830-8813-998fdb45daa4",
   "metadata": {},
   "source": [
    "The values for each $w_i$ are:\n",
    "<ul>\n",
    "    <li>$w_0=0.2222$</li>\n",
    "    <li>$w_1=-3.1044$</li>\n",
    "    <li>$w_2=-1.4107$</li>\n",
    "    <li>$w_3=2.7464$</li>\n",
    "    <li>$w_4=-2.0361$</li>\n",
    "    <li>$w_5=2.9388$</li>\n",
    "</ul>"
   ]
  },
  {
   "cell_type": "markdown",
   "id": "eaf7897e-9e13-4154-a3d0-29d6cb3c1c96",
   "metadata": {},
   "source": [
    "### 2(b):"
   ]
  },
  {
   "cell_type": "code",
   "execution_count": 11,
   "id": "d3508fd8-f1bc-4a5c-9bab-21182e38924c",
   "metadata": {},
   "outputs": [],
   "source": [
    "# make predictions when each x-value is 0.4\n",
    "x = np.full(shape=5, fill_value=0.4)\n",
    "x = np.insert(x, 0, 1)\n",
    "y_pred = sum(x*w_hat)"
   ]
  },
  {
   "cell_type": "markdown",
   "id": "c27234e9-8142-4c92-a5c2-e4c49002daa0",
   "metadata": {},
   "source": [
    "For $x=[0.4,0.4,0.4,0.4,0.4]$, the predicted $y$ value is $-0.1242$."
   ]
  },
  {
   "cell_type": "markdown",
   "id": "bc92c04c-f769-420a-8182-69e1b336eebb",
   "metadata": {},
   "source": [
    "### 2(c):\n",
    "The unbiased estimator of the noise is\n",
    "\\begin{align}\n",
    "\\hat{\\sigma}^2&=\\frac{1}{n-(p+1)}RSS(\\hat{w})\n",
    "\\end{align}"
   ]
  },
  {
   "cell_type": "code",
   "execution_count": 12,
   "id": "713b9646-e450-4379-8d08-dc2b760127e8",
   "metadata": {},
   "outputs": [],
   "source": [
    "# get y-predictions\n",
    "y_hat = X.dot(w_hat)\n",
    "# calculate the residual sum of squares\n",
    "rss = np.sum(np.square(y - y_hat))\n",
    "# use RSS to estimate sigma squared\n",
    "sigma_sq_hat = (1/26)*rss"
   ]
  },
  {
   "cell_type": "markdown",
   "id": "c69b4484-490e-466c-933f-05a2edb20184",
   "metadata": {},
   "source": [
    "The unbiased estimate for the noise of the data is \n",
    "\\begin{align}\n",
    "\\hat{\\sigma}^2&=0.0059\n",
    "\\end{align}"
   ]
  },
  {
   "cell_type": "markdown",
   "id": "4d734025-c853-40fe-9c23-fd0722cae0a5",
   "metadata": {},
   "source": [
    "### 2(d):\n",
    "Since our noise has mean $0$, the covariance matrix for $\\hat{w}$ can be expressed as \n",
    "\\begin{align}\n",
    "\\text{cov}(\\hat{w})&=\\sigma^2(X^TX)^{-1}.\n",
    "\\end{align}\n",
    "Therefore, our estimate for the covariance matrix is\n",
    "\\begin{align}\n",
    "\\text{cov}(\\hat{w})&=\\hat{\\sigma}^2(X^TX)^{-1}.\n",
    "\\end{align}\n",
    "The variance of the first coefficient is the second diagonal entry of the covariance matrix."
   ]
  },
  {
   "cell_type": "code",
   "execution_count": 13,
   "id": "f1af2b27-f34c-44b3-ae44-112a758897b4",
   "metadata": {},
   "outputs": [],
   "source": [
    "# find covariance matrix\n",
    "cov_matrix = linalg.inv(X.T.dot(X))\n",
    "# get the second diagonal entry\n",
    "var_w_1 = sigma_sq_hat * cov_matrix[1][1]"
   ]
  },
  {
   "cell_type": "markdown",
   "id": "456e1bb6-84f3-4ea0-b5af-78864d3f8190",
   "metadata": {},
   "source": [
    "The variance of $\\hat{w}_1$ is \n",
    "\\begin{align}\n",
    "\\text{Var}(\\hat{w}_1)=0.0019\n",
    "\\end{align}"
   ]
  },
  {
   "cell_type": "markdown",
   "id": "0d573d12-c275-4007-bb5b-211dc388b409",
   "metadata": {},
   "source": [
    "## Problem 3:"
   ]
  },
  {
   "cell_type": "markdown",
   "id": "aed7a4ad-bc12-4f2b-a9dd-f136ac930f27",
   "metadata": {},
   "source": [
    "### 3(a):\n",
    "I arbitrarily select the following:\n",
    "<ul>\n",
    "    <li>$w^*=[0.2512, -2.8431, 1.4282, -3.1595, 0.3378, 1.7218]$</li>\n",
    "    <li>$\\sigma^2 = 0.0432$</li>\n",
    "    <li>$n=50.$</li>\n",
    "</ul>"
   ]
  },
  {
   "cell_type": "markdown",
   "id": "d688b736-a569-418a-9450-ba42574aac12",
   "metadata": {},
   "source": [
    "### 3(b):\n",
    "The code below generates 10000 samples of size n and adds each sample to a list entitled 'sample_list'. "
   ]
  },
  {
   "cell_type": "code",
   "execution_count": 14,
   "id": "7a1e4171-5f75-4360-82bd-e6ab62829afb",
   "metadata": {},
   "outputs": [],
   "source": [
    "# define true w and noise variance\n",
    "w = np.array([0.2512, -2.8431, 1.4282, -3.1595, 0.3378, 1.7218])\n",
    "sigma_sq = 0.0432\n",
    "\n",
    "# initiate list to store samples\n",
    "sample_list = []\n",
    "# create 10000 samples of size n=50\n",
    "for i in range(10000):\n",
    "    df = pd.DataFrame(columns = [f'x{i+1}' for i in range(5)] + ['y'])\n",
    "    \n",
    "    # get normally distributed noise with mean 0\n",
    "    u = np.random.normal(0,math.sqrt(sigma_sq), 50)\n",
    "    \n",
    "    for j in range(50):\n",
    "        \n",
    "        # get five values between -1 and 1\n",
    "        x = np.array([1] + [2*rand.random() - 1 for k in range(5)])\n",
    "        # get y-values fo reach observation\n",
    "        y = np.sum(w*x) + u[j]\n",
    "        row = np.append(x[1:], y)\n",
    "        # add sample to the list\n",
    "        df.loc[len(df)] = row\n",
    "        \n",
    "    sample_list.append(df)"
   ]
  },
  {
   "cell_type": "markdown",
   "id": "1abb2b9c-44c1-4de1-9adc-6a1b5727a014",
   "metadata": {},
   "source": [
    "### 3(c) and 3(d):\n",
    "We use the same process as problem 2 to fit the regression models, find the unbiased noise estimator, estimated variance of the first coefficient, and t -values. The following code also creates a list of the t-values obtianed for each sample."
   ]
  },
  {
   "cell_type": "code",
   "execution_count": 15,
   "id": "3e6c872f-4635-495f-9653-0925a6d9c6f3",
   "metadata": {},
   "outputs": [],
   "source": [
    "ones = np.ones(50)\n",
    "\n",
    "# initiate a list to store the t-values.\n",
    "t_list = []\n",
    "for sample in sample_list:\n",
    "    # create the matrix X\n",
    "    X = np.c_[ones, sample.x1, sample.x2, sample.x3, sample.x4, sample.x5]\n",
    "    # solve the equation for w_hat\n",
    "    w_hat = linalg.lstsq(X, sample.y)[0]\n",
    "    # get y_hat\n",
    "    y_hat = X.dot(w_hat)\n",
    "    rss = np.sum(np.square(sample.y - y_hat))\n",
    "    # estimate noise variance\n",
    "    sigma_sq_hat = (1/26)*rss\n",
    "    #use sigma_sq_hat to estimate variance for the first coefficient\n",
    "    cov_matrix = linalg.inv(X.T.dot(X))\n",
    "    var_w_1 = sigma_sq_hat * cov_matrix[1][1]\n",
    "    # find the t-statistic\n",
    "    t = (w_hat[1]-w[1])/math.sqrt(var_w_1)\n",
    "    # add t-value to the list\n",
    "    t_list.append(t)"
   ]
  },
  {
   "cell_type": "markdown",
   "id": "39faf333-5b0a-4657-99dd-e9d25b875ea8",
   "metadata": {},
   "source": [
    "Now we plot the distribution of these t-values against the actual t-distribution."
   ]
  },
  {
   "cell_type": "code",
   "execution_count": 16,
   "id": "4a0d23b9-9fd8-4f62-a729-c85f8f07cab1",
   "metadata": {},
   "outputs": [],
   "source": [
    "# save t-values so I do not need to rerun the above code\n",
    "np.savetxt(\"t_list.csv\", t_list, delimiter=\",\", header='t_values')"
   ]
  },
  {
   "cell_type": "code",
   "execution_count": 94,
   "id": "43d9b02c-baf8-4dee-bec8-369e40b9e6f0",
   "metadata": {},
   "outputs": [
    {
     "data": {
      "image/png": "[encoded data removed]",
      "text/plain": [
       "<Figure size 640x480 with 1 Axes>"
      ]
     },
     "metadata": {},
     "output_type": "display_data"
    }
   ],
   "source": [
    "# get t-distribution for 44 degrees of freedom and 100000 samples\n",
    "x = t.rvs(df=44, size=10000)\n",
    "\n",
    "# create histogram and pdf\n",
    "hist = plt.hist(t_list, density=True, bins=50, color='lightblue', edgecolor='black', linewidth=1.5)\n",
    "pdf = sns.kdeplot(x, color='blue')\n",
    "plt.grid(visible=True)\n",
    "\n",
    "# customize plot\n",
    "plt.title('t-distribution vs t-values')\n",
    "plt.xlabel('t-value')\n",
    "plt.tight_layout()\n",
    "plt.legend(labels=['t-distribution', 't-values'])\n",
    "plt.show()"
   ]
  },
  {
   "cell_type": "code",
   "execution_count": null,
   "id": "5311e98f-7b52-490d-a6b1-6fc6b90916aa",
   "metadata": {},
   "outputs": [],
   "source": []
  }
 ],
 "metadata": {
  "kernelspec": {
   "display_name": "Python 3 (ipykernel)",
   "language": "python",
   "name": "python3"
  },
  "language_info": {
   "codemirror_mode": {
    "name": "ipython",
    "version": 3
   },
   "file_extension": ".py",
   "mimetype": "text/x-python",
   "name": "python",
   "nbconvert_exporter": "python",
   "pygments_lexer": "ipython3",
   "version": "3.9.13"
  }
 },
 "nbformat": 4,
 "nbformat_minor": 5
}
